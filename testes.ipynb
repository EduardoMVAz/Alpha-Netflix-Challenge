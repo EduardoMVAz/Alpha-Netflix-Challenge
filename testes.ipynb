{
 "cells": [
  {
   "cell_type": "code",
   "execution_count": 1,
   "metadata": {
    "pycharm": {
     "name": "#%%\n"
    }
   },
   "outputs": [],
   "source": [
    "import pandas as pd\n",
    "import numpy as np\n",
    "from numpy.linalg import svd\n",
    "from scipy.linalg import svd, diagsvd\n",
    "import matplotlib.image as mpimg\n",
    "import matplotlib.pyplot as plt\n",
    "import numpy as np\n",
    "from copy import deepcopy\n",
    "\n",
    "df = pd.read_csv('ratings_small.csv')\n",
    "matriz_notas = df.pivot_table(index='userId', columns='movieId', values='rating')\n",
    "matriz_notas = matriz_notas.fillna(0)\n",
    "matriz_notas.head(2)\n",
    "\n",
    "def comprimir (u, s, vt, K):\n",
    "    \"\"\"Remove elementos de u, s e vt deixando somente K componentes restantes\n",
    "    \"\"\" \n",
    "    u_ = u[:, :K]\n",
    "    s_ = s[:K]\n",
    "    vt_ = vt[:K, :]\n",
    "    return u_, s_, vt_"
   ]
  },
  {
   "attachments": {},
   "cell_type": "markdown",
   "metadata": {
    "pycharm": {
     "name": "#%% md\n"
    }
   },
   "source": [
    "## Teste de K\n",
    "\n",
    "Aqui temos como objetivo testar qual o melhor K para o nosso modelo, com 20 iterações cada."
   ]
  },
  {
   "attachments": {},
   "cell_type": "markdown",
   "metadata": {
    "pycharm": {
     "name": "#%% md\n"
    }
   },
   "source": [
    "K = 300"
   ]
  },
  {
   "cell_type": "code",
   "execution_count": 4,
   "metadata": {
    "pycharm": {
     "name": "#%%\n"
    }
   },
   "outputs": [
    {
     "name": "stdout",
     "output_type": "stream",
     "text": [
      "-------------------------------------\n",
      "Iteração:  1\n",
      "Nota do usuário para o filme:  3.0\n",
      "Nota aleatória do usuário para o filme:  1.99622446090019\n",
      "Nota do usuário para o filme na matriz B:  1.9679118307451062\n",
      "-------------------------------------\n",
      "Iteração:  2\n",
      "Nota do usuário para o filme:  3.0\n",
      "Nota aleatória do usuário para o filme:  1.257462362595394\n",
      "Nota do usuário para o filme na matriz B:  0.7383167563838584\n",
      "-------------------------------------\n",
      "Iteração:  3\n",
      "Nota do usuário para o filme:  3.5\n",
      "Nota aleatória do usuário para o filme:  2.1413697938576637\n",
      "Nota do usuário para o filme na matriz B:  2.2165714889707324\n",
      "-------------------------------------\n",
      "Iteração:  4\n",
      "Nota do usuário para o filme:  3.5\n",
      "Nota aleatória do usuário para o filme:  1.553717117557592\n",
      "Nota do usuário para o filme na matriz B:  0.5596912802074346\n",
      "-------------------------------------\n",
      "Iteração:  5\n",
      "Nota do usuário para o filme:  3.5\n",
      "Nota aleatória do usuário para o filme:  4.194936977346258\n",
      "Nota do usuário para o filme na matriz B:  4.1736087187103115\n",
      "-------------------------------------\n",
      "Iteração:  6\n",
      "Nota do usuário para o filme:  3.5\n",
      "Nota aleatória do usuário para o filme:  1.1795753752666212\n",
      "Nota do usuário para o filme na matriz B:  1.0388034610410206\n",
      "-------------------------------------\n",
      "Iteração:  7\n",
      "Nota do usuário para o filme:  3.0\n",
      "Nota aleatória do usuário para o filme:  1.0151002143967214\n",
      "Nota do usuário para o filme na matriz B:  1.0127862167332655\n",
      "-------------------------------------\n",
      "Iteração:  8\n",
      "Nota do usuário para o filme:  3.0\n",
      "Nota aleatória do usuário para o filme:  1.9375080369270814\n",
      "Nota do usuário para o filme na matriz B:  2.0620849432106203\n",
      "-------------------------------------\n",
      "Iteração:  9\n",
      "Nota do usuário para o filme:  1.0\n",
      "Nota aleatória do usuário para o filme:  3.598165626477983\n",
      "Nota do usuário para o filme na matriz B:  3.5252782628939996\n",
      "-------------------------------------\n",
      "Iteração:  10\n",
      "Nota do usuário para o filme:  4.5\n",
      "Nota aleatória do usuário para o filme:  3.7446224713107625\n",
      "Nota do usuário para o filme na matriz B:  3.8079773052963724\n",
      "-------------------------------------\n",
      "Iteração:  11\n",
      "Nota do usuário para o filme:  4.0\n",
      "Nota aleatória do usuário para o filme:  2.5014064093215898\n",
      "Nota do usuário para o filme na matriz B:  2.4495549757275934\n",
      "-------------------------------------\n",
      "Iteração:  12\n",
      "Nota do usuário para o filme:  4.0\n",
      "Nota aleatória do usuário para o filme:  2.383013486711278\n",
      "Nota do usuário para o filme na matriz B:  2.3872683512601456\n",
      "-------------------------------------\n",
      "Iteração:  13\n",
      "Nota do usuário para o filme:  4.0\n",
      "Nota aleatória do usuário para o filme:  0.6605289407748183\n",
      "Nota do usuário para o filme na matriz B:  0.4508581706226516\n",
      "-------------------------------------\n",
      "Iteração:  14\n",
      "Nota do usuário para o filme:  3.0\n",
      "Nota aleatória do usuário para o filme:  3.3742216926873003\n",
      "Nota do usuário para o filme na matriz B:  2.2908436945351993\n",
      "-------------------------------------\n",
      "Iteração:  15\n",
      "Nota do usuário para o filme:  5.0\n",
      "Nota aleatória do usuário para o filme:  3.012360066937683\n",
      "Nota do usuário para o filme na matriz B:  2.9864142992054385\n",
      "-------------------------------------\n",
      "Iteração:  16\n",
      "Nota do usuário para o filme:  4.0\n",
      "Nota aleatória do usuário para o filme:  3.2973941603887647\n",
      "Nota do usuário para o filme na matriz B:  2.7179748312348457\n",
      "-------------------------------------\n",
      "Iteração:  17\n",
      "Nota do usuário para o filme:  4.0\n",
      "Nota aleatória do usuário para o filme:  2.1131798951146936\n",
      "Nota do usuário para o filme na matriz B:  1.8257273207375944\n",
      "-------------------------------------\n",
      "Iteração:  18\n",
      "Nota do usuário para o filme:  3.0\n",
      "Nota aleatória do usuário para o filme:  3.7447538149792687\n",
      "Nota do usuário para o filme na matriz B:  3.7976742877495213\n",
      "-------------------------------------\n",
      "Iteração:  19\n",
      "Nota do usuário para o filme:  4.0\n",
      "Nota aleatória do usuário para o filme:  0.29986677090159786\n",
      "Nota do usuário para o filme na matriz B:  0.38984215734538763\n",
      "-------------------------------------\n",
      "Iteração:  20\n",
      "Nota do usuário para o filme:  4.0\n",
      "Nota aleatória do usuário para o filme:  4.711349317276617\n",
      "Nota do usuário para o filme na matriz B:  3.6601936425735015\n"
     ]
    }
   ],
   "source": [
    "# Vamos fazer agora para varias linhas\n",
    "for n in range(20):\n",
    "    linha = np.random.randint(0, df.__len__())\n",
    "    id_usuario = df.iloc[linha]['userId']\n",
    "    id_filme = df.iloc[linha]['movieId']\n",
    "    nota = df.iloc[linha]['rating']\n",
    "    A = deepcopy(matriz_notas)\n",
    "    A.loc[id_usuario, id_filme] = np.random.uniform(0.0, 5.0)\n",
    "    nota_aleatoria = A.loc[id_usuario, id_filme]\n",
    "    u, s, vt = svd(A)\n",
    "    u_, s_, vt_ = comprimir(u, s, vt, 300)\n",
    "    sigma = diagsvd(s_, u_.shape[1], vt_.shape[0])\n",
    "    B = u_ @ sigma @ vt_\n",
    "    B = pd.DataFrame(B, index=A.index, columns=A.columns)\n",
    "    print('-------------------------------------')\n",
    "    print('Iteração: ', n+1)\n",
    "    print('Nota do usuário para o filme: ', nota)\n",
    "    print('Nota aleatória do usuário para o filme: ', nota_aleatoria)\n",
    "    print('Nota do usuário para o filme na matriz B: ', B.loc[id_usuario, id_filme])\n",
    "    # salva em um novo dataframe chamado resultados.csv\n",
    "    resultados = pd.DataFrame({'nota': [nota], 'nota_aleatoria': [nota_aleatoria], 'nota_reconstruida': [B.loc[id_usuario, id_filme]]})\n",
    "    if n == 0:\n",
    "        resultados.to_csv('K300.csv', mode='a', header=True)\n",
    "    else:\n",
    "        resultados.to_csv('K300.csv', mode='a', header=False)\n",
    "\n",
    "\n"
   ]
  },
  {
   "attachments": {},
   "cell_type": "markdown",
   "metadata": {
    "pycharm": {
     "name": "#%% md\n"
    }
   },
   "source": [
    "K = 200"
   ]
  },
  {
   "cell_type": "code",
   "execution_count": 5,
   "metadata": {
    "pycharm": {
     "name": "#%%\n"
    }
   },
   "outputs": [
    {
     "name": "stdout",
     "output_type": "stream",
     "text": [
      "-------------------------------------\n",
      "Iteração:  1\n",
      "Nota do usuário para o filme:  4.0\n",
      "Nota aleatória do usuário para o filme:  2.5432200125442077\n",
      "Nota do usuário para o filme na matriz B:  2.907907819028474\n",
      "-------------------------------------\n",
      "Iteração:  2\n",
      "Nota do usuário para o filme:  4.0\n",
      "Nota aleatória do usuário para o filme:  4.26280459500814\n",
      "Nota do usuário para o filme na matriz B:  4.330223882244747\n",
      "-------------------------------------\n",
      "Iteração:  3\n",
      "Nota do usuário para o filme:  3.0\n",
      "Nota aleatória do usuário para o filme:  0.8411117223419584\n",
      "Nota do usuário para o filme na matriz B:  0.8646921607189045\n",
      "-------------------------------------\n",
      "Iteração:  4\n",
      "Nota do usuário para o filme:  2.0\n",
      "Nota aleatória do usuário para o filme:  3.558200833863995\n",
      "Nota do usuário para o filme na matriz B:  3.4526444788737907\n",
      "-------------------------------------\n",
      "Iteração:  5\n",
      "Nota do usuário para o filme:  3.0\n",
      "Nota aleatória do usuário para o filme:  4.82480642984625\n",
      "Nota do usuário para o filme na matriz B:  4.85394660250503\n",
      "-------------------------------------\n",
      "Iteração:  6\n",
      "Nota do usuário para o filme:  3.0\n",
      "Nota aleatória do usuário para o filme:  4.196152203341457\n",
      "Nota do usuário para o filme na matriz B:  4.199057492807854\n",
      "-------------------------------------\n",
      "Iteração:  7\n",
      "Nota do usuário para o filme:  5.0\n",
      "Nota aleatória do usuário para o filme:  1.4746187746452866\n",
      "Nota do usuário para o filme na matriz B:  0.8266944392206377\n",
      "-------------------------------------\n",
      "Iteração:  8\n",
      "Nota do usuário para o filme:  3.0\n",
      "Nota aleatória do usuário para o filme:  0.9616057152598007\n",
      "Nota do usuário para o filme na matriz B:  1.613649528861427\n",
      "-------------------------------------\n",
      "Iteração:  9\n",
      "Nota do usuário para o filme:  3.0\n",
      "Nota aleatória do usuário para o filme:  3.471886745814844\n",
      "Nota do usuário para o filme na matriz B:  3.2312660652503036\n",
      "-------------------------------------\n",
      "Iteração:  10\n",
      "Nota do usuário para o filme:  3.0\n",
      "Nota aleatória do usuário para o filme:  4.290643224413178\n",
      "Nota do usuário para o filme na matriz B:  5.326165602857361\n",
      "-------------------------------------\n",
      "Iteração:  11\n",
      "Nota do usuário para o filme:  4.0\n",
      "Nota aleatória do usuário para o filme:  2.382353439597381\n",
      "Nota do usuário para o filme na matriz B:  2.3269409881263523\n",
      "-------------------------------------\n",
      "Iteração:  12\n",
      "Nota do usuário para o filme:  2.0\n",
      "Nota aleatória do usuário para o filme:  4.066269298766361\n",
      "Nota do usuário para o filme na matriz B:  4.038048818348503\n",
      "-------------------------------------\n",
      "Iteração:  13\n",
      "Nota do usuário para o filme:  3.5\n",
      "Nota aleatória do usuário para o filme:  1.5312951728266677\n",
      "Nota do usuário para o filme na matriz B:  0.9804461756649223\n",
      "-------------------------------------\n",
      "Iteração:  14\n",
      "Nota do usuário para o filme:  3.0\n",
      "Nota aleatória do usuário para o filme:  1.6451129482324318\n",
      "Nota do usuário para o filme na matriz B:  0.6948389785418713\n",
      "-------------------------------------\n",
      "Iteração:  15\n",
      "Nota do usuário para o filme:  3.0\n",
      "Nota aleatória do usuário para o filme:  3.1009217510350373\n",
      "Nota do usuário para o filme na matriz B:  2.9472818799339886\n",
      "-------------------------------------\n",
      "Iteração:  16\n",
      "Nota do usuário para o filme:  5.0\n",
      "Nota aleatória do usuário para o filme:  0.9398000777456622\n",
      "Nota do usuário para o filme na matriz B:  0.3735329383664236\n",
      "-------------------------------------\n",
      "Iteração:  17\n",
      "Nota do usuário para o filme:  5.0\n",
      "Nota aleatória do usuário para o filme:  1.1248090830933588\n",
      "Nota do usuário para o filme na matriz B:  0.7588243124518259\n",
      "-------------------------------------\n",
      "Iteração:  18\n",
      "Nota do usuário para o filme:  5.0\n",
      "Nota aleatória do usuário para o filme:  1.7017822848726993\n",
      "Nota do usuário para o filme na matriz B:  1.489894255608439\n",
      "-------------------------------------\n",
      "Iteração:  19\n",
      "Nota do usuário para o filme:  3.0\n",
      "Nota aleatória do usuário para o filme:  3.21623778990003\n",
      "Nota do usuário para o filme na matriz B:  0.13387947907465608\n",
      "-------------------------------------\n",
      "Iteração:  20\n",
      "Nota do usuário para o filme:  3.0\n",
      "Nota aleatória do usuário para o filme:  3.288326055131377\n",
      "Nota do usuário para o filme na matriz B:  2.721103040859547\n"
     ]
    }
   ],
   "source": [
    "# Vamos fazer agora para varias linhas\n",
    "for n in range(20):\n",
    "    linha = np.random.randint(0, df.__len__())\n",
    "    id_usuario = df.iloc[linha]['userId']\n",
    "    id_filme = df.iloc[linha]['movieId']\n",
    "    nota = df.iloc[linha]['rating']\n",
    "    A = deepcopy(matriz_notas)\n",
    "    A.loc[id_usuario, id_filme] = np.random.uniform(0.0, 5.0)\n",
    "    nota_aleatoria = A.loc[id_usuario, id_filme]\n",
    "    u, s, vt = svd(A)\n",
    "    u_, s_, vt_ = comprimir(u, s, vt, 200)\n",
    "    sigma = diagsvd(s_, u_.shape[1], vt_.shape[0])\n",
    "    B = u_ @ sigma @ vt_\n",
    "    B = pd.DataFrame(B, index=A.index, columns=A.columns)\n",
    "    print('-------------------------------------')\n",
    "    print('Iteração: ', n+1)\n",
    "    print('Nota do usuário para o filme: ', nota)\n",
    "    print('Nota aleatória do usuário para o filme: ', nota_aleatoria)\n",
    "    print('Nota do usuário para o filme na matriz B: ', B.loc[id_usuario, id_filme])\n",
    "    # salva em um novo dataframe chamado resultados.csv\n",
    "    resultados = pd.DataFrame({'nota': [nota], 'nota_aleatoria': [nota_aleatoria], 'nota_reconstruida': [B.loc[id_usuario, id_filme]]})\n",
    "    if n == 0:\n",
    "        resultados.to_csv('K200.csv', mode='a', header=True)\n",
    "    else:\n",
    "        resultados.to_csv('K200.csv', mode='a', header=False)\n",
    "\n",
    "\n"
   ]
  },
  {
   "attachments": {},
   "cell_type": "markdown",
   "metadata": {
    "pycharm": {
     "name": "#%% md\n"
    }
   },
   "source": [
    "K = 150"
   ]
  },
  {
   "cell_type": "code",
   "execution_count": 6,
   "metadata": {
    "pycharm": {
     "name": "#%%\n"
    }
   },
   "outputs": [
    {
     "name": "stdout",
     "output_type": "stream",
     "text": [
      "-------------------------------------\n",
      "Iteração:  1\n",
      "Nota do usuário para o filme:  4.0\n",
      "Nota aleatória do usuário para o filme:  3.4897575414924598\n",
      "Nota do usuário para o filme na matriz B:  3.951418285489061\n",
      "-------------------------------------\n",
      "Iteração:  2\n",
      "Nota do usuário para o filme:  4.0\n",
      "Nota aleatória do usuário para o filme:  1.0402231597100742\n",
      "Nota do usuário para o filme na matriz B:  0.5869145190488785\n",
      "-------------------------------------\n",
      "Iteração:  3\n",
      "Nota do usuário para o filme:  4.0\n",
      "Nota aleatória do usuário para o filme:  4.64822526236937\n",
      "Nota do usuário para o filme na matriz B:  2.6733295046248795\n",
      "-------------------------------------\n",
      "Iteração:  4\n",
      "Nota do usuário para o filme:  4.0\n",
      "Nota aleatória do usuário para o filme:  4.300553986117238\n",
      "Nota do usuário para o filme na matriz B:  2.593907294433211\n",
      "-------------------------------------\n",
      "Iteração:  5\n",
      "Nota do usuário para o filme:  5.0\n",
      "Nota aleatória do usuário para o filme:  2.414311258957151\n",
      "Nota do usuário para o filme na matriz B:  3.1782955141294353\n",
      "-------------------------------------\n",
      "Iteração:  6\n",
      "Nota do usuário para o filme:  3.0\n",
      "Nota aleatória do usuário para o filme:  3.6054720319604128\n",
      "Nota do usuário para o filme na matriz B:  2.5306769662091866\n",
      "-------------------------------------\n",
      "Iteração:  7\n",
      "Nota do usuário para o filme:  3.5\n",
      "Nota aleatória do usuário para o filme:  2.2016086288284638\n",
      "Nota do usuário para o filme na matriz B:  1.5310124595727852\n",
      "-------------------------------------\n",
      "Iteração:  8\n",
      "Nota do usuário para o filme:  2.0\n",
      "Nota aleatória do usuário para o filme:  2.3859815164568356\n",
      "Nota do usuário para o filme na matriz B:  2.4605979869998196\n",
      "-------------------------------------\n",
      "Iteração:  9\n",
      "Nota do usuário para o filme:  3.0\n",
      "Nota aleatória do usuário para o filme:  3.012824089879176\n",
      "Nota do usuário para o filme na matriz B:  2.2212367406427997\n",
      "-------------------------------------\n",
      "Iteração:  10\n",
      "Nota do usuário para o filme:  4.0\n",
      "Nota aleatória do usuário para o filme:  4.302600684832356\n",
      "Nota do usuário para o filme na matriz B:  2.1084639049080725\n",
      "-------------------------------------\n",
      "Iteração:  11\n",
      "Nota do usuário para o filme:  3.5\n",
      "Nota aleatória do usuário para o filme:  1.2389508484817209\n",
      "Nota do usuário para o filme na matriz B:  2.351286668411171\n",
      "-------------------------------------\n",
      "Iteração:  12\n",
      "Nota do usuário para o filme:  5.0\n",
      "Nota aleatória do usuário para o filme:  1.3403973883439084\n",
      "Nota do usuário para o filme na matriz B:  2.8722455285796338\n",
      "-------------------------------------\n",
      "Iteração:  13\n",
      "Nota do usuário para o filme:  3.5\n",
      "Nota aleatória do usuário para o filme:  4.602482708265233\n",
      "Nota do usuário para o filme na matriz B:  4.459194544170701\n",
      "-------------------------------------\n",
      "Iteração:  14\n",
      "Nota do usuário para o filme:  4.0\n",
      "Nota aleatória do usuário para o filme:  4.893547179150735\n",
      "Nota do usuário para o filme na matriz B:  4.114840058783781\n",
      "-------------------------------------\n",
      "Iteração:  15\n",
      "Nota do usuário para o filme:  3.5\n",
      "Nota aleatória do usuário para o filme:  4.259488215402713\n",
      "Nota do usuário para o filme na matriz B:  2.5165966178937653\n",
      "-------------------------------------\n",
      "Iteração:  16\n",
      "Nota do usuário para o filme:  4.0\n",
      "Nota aleatória do usuário para o filme:  0.4950613910207635\n",
      "Nota do usuário para o filme na matriz B:  0.5040514160032763\n",
      "-------------------------------------\n",
      "Iteração:  17\n",
      "Nota do usuário para o filme:  3.5\n",
      "Nota aleatória do usuário para o filme:  3.172420893747769\n",
      "Nota do usuário para o filme na matriz B:  3.3693108302908437\n",
      "-------------------------------------\n",
      "Iteração:  18\n",
      "Nota do usuário para o filme:  2.0\n",
      "Nota aleatória do usuário para o filme:  2.8682693470459917\n",
      "Nota do usuário para o filme na matriz B:  2.5518001435270885\n",
      "-------------------------------------\n",
      "Iteração:  19\n",
      "Nota do usuário para o filme:  2.5\n",
      "Nota aleatória do usuário para o filme:  4.656722213402235\n",
      "Nota do usuário para o filme na matriz B:  4.481767672816797\n",
      "-------------------------------------\n",
      "Iteração:  20\n",
      "Nota do usuário para o filme:  2.0\n",
      "Nota aleatória do usuário para o filme:  3.6070031918543903\n",
      "Nota do usuário para o filme na matriz B:  3.237388395779059\n"
     ]
    }
   ],
   "source": [
    "# Vamos fazer agora para varias linhas\n",
    "for n in range(20):\n",
    "    linha = np.random.randint(0, df.__len__())\n",
    "    id_usuario = df.iloc[linha]['userId']\n",
    "    id_filme = df.iloc[linha]['movieId']\n",
    "    nota = df.iloc[linha]['rating']\n",
    "    A = deepcopy(matriz_notas)\n",
    "    A.loc[id_usuario, id_filme] = np.random.uniform(0.0, 5.0)\n",
    "    nota_aleatoria = A.loc[id_usuario, id_filme]\n",
    "    u, s, vt = svd(A)\n",
    "    u_, s_, vt_ = comprimir(u, s, vt, 150)\n",
    "    sigma = diagsvd(s_, u_.shape[1], vt_.shape[0])\n",
    "    B = u_ @ sigma @ vt_\n",
    "    B = pd.DataFrame(B, index=A.index, columns=A.columns)\n",
    "    print('-------------------------------------')\n",
    "    print('Iteração: ', n+1)\n",
    "    print('Nota do usuário para o filme: ', nota)\n",
    "    print('Nota aleatória do usuário para o filme: ', nota_aleatoria)\n",
    "    print('Nota do usuário para o filme na matriz B: ', B.loc[id_usuario, id_filme])\n",
    "    # salva em um novo dataframe chamado resultados.csv\n",
    "    resultados = pd.DataFrame({'nota': [nota], 'nota_aleatoria': [nota_aleatoria], 'nota_reconstruida': [B.loc[id_usuario, id_filme]]})\n",
    "    if n == 0:\n",
    "        resultados.to_csv('K150.csv', mode='a', header=True)\n",
    "    else:\n",
    "        resultados.to_csv('K150.csv', mode='a', header=False)\n"
   ]
  },
  {
   "attachments": {},
   "cell_type": "markdown",
   "metadata": {
    "pycharm": {
     "name": "#%% md\n"
    }
   },
   "source": [
    "K = 100"
   ]
  },
  {
   "cell_type": "code",
   "execution_count": 7,
   "metadata": {
    "pycharm": {
     "name": "#%%\n"
    }
   },
   "outputs": [
    {
     "name": "stdout",
     "output_type": "stream",
     "text": [
      "-------------------------------------\n",
      "Iteração:  1\n",
      "Nota do usuário para o filme:  3.5\n",
      "Nota aleatória do usuário para o filme:  0.9173367756528183\n",
      "Nota do usuário para o filme na matriz B:  0.016010073622025722\n",
      "-------------------------------------\n",
      "Iteração:  2\n",
      "Nota do usuário para o filme:  4.5\n",
      "Nota aleatória do usuário para o filme:  4.110386091621893\n",
      "Nota do usuário para o filme na matriz B:  3.522085339569809\n",
      "-------------------------------------\n",
      "Iteração:  3\n",
      "Nota do usuário para o filme:  4.0\n",
      "Nota aleatória do usuário para o filme:  4.150080379804487\n",
      "Nota do usuário para o filme na matriz B:  1.336458034037619\n",
      "-------------------------------------\n",
      "Iteração:  4\n",
      "Nota do usuário para o filme:  4.0\n",
      "Nota aleatória do usuário para o filme:  2.277173438448859\n",
      "Nota do usuário para o filme na matriz B:  0.17790356263904902\n",
      "-------------------------------------\n",
      "Iteração:  5\n",
      "Nota do usuário para o filme:  4.0\n",
      "Nota aleatória do usuário para o filme:  0.05029796182778545\n",
      "Nota do usuário para o filme na matriz B:  -0.1602771766466041\n",
      "-------------------------------------\n",
      "Iteração:  6\n",
      "Nota do usuário para o filme:  4.0\n",
      "Nota aleatória do usuário para o filme:  2.3018958022932203\n",
      "Nota do usuário para o filme na matriz B:  2.130553442114804\n",
      "-------------------------------------\n",
      "Iteração:  7\n",
      "Nota do usuário para o filme:  2.0\n",
      "Nota aleatória do usuário para o filme:  1.3539758806991768\n",
      "Nota do usuário para o filme na matriz B:  1.3604364305347763\n",
      "-------------------------------------\n",
      "Iteração:  8\n",
      "Nota do usuário para o filme:  2.0\n",
      "Nota aleatória do usuário para o filme:  4.4931382723955995\n",
      "Nota do usuário para o filme na matriz B:  3.701735035110092\n",
      "-------------------------------------\n",
      "Iteração:  9\n",
      "Nota do usuário para o filme:  5.0\n",
      "Nota aleatória do usuário para o filme:  1.9978546008492541\n",
      "Nota do usuário para o filme na matriz B:  1.9520796598044339\n",
      "-------------------------------------\n",
      "Iteração:  10\n",
      "Nota do usuário para o filme:  2.0\n",
      "Nota aleatória do usuário para o filme:  0.8661145540376208\n",
      "Nota do usuário para o filme na matriz B:  0.6330556659632444\n",
      "-------------------------------------\n",
      "Iteração:  11\n",
      "Nota do usuário para o filme:  5.0\n",
      "Nota aleatória do usuário para o filme:  4.479281691317766\n",
      "Nota do usuário para o filme na matriz B:  4.026817466023401\n",
      "-------------------------------------\n",
      "Iteração:  12\n",
      "Nota do usuário para o filme:  4.0\n",
      "Nota aleatória do usuário para o filme:  4.7249613433926\n",
      "Nota do usuário para o filme na matriz B:  0.7981498469136519\n",
      "-------------------------------------\n",
      "Iteração:  13\n",
      "Nota do usuário para o filme:  5.0\n",
      "Nota aleatória do usuário para o filme:  3.988768339266691\n",
      "Nota do usuário para o filme na matriz B:  3.7800721595880087\n",
      "-------------------------------------\n",
      "Iteração:  14\n",
      "Nota do usuário para o filme:  3.0\n",
      "Nota aleatória do usuário para o filme:  3.032359951294042\n",
      "Nota do usuário para o filme na matriz B:  3.0326327063738017\n",
      "-------------------------------------\n",
      "Iteração:  15\n",
      "Nota do usuário para o filme:  4.5\n",
      "Nota aleatória do usuário para o filme:  0.5968493981523693\n",
      "Nota do usuário para o filme na matriz B:  1.4529247429626346\n",
      "-------------------------------------\n",
      "Iteração:  16\n",
      "Nota do usuário para o filme:  2.5\n",
      "Nota aleatória do usuário para o filme:  1.3569622891756667\n",
      "Nota do usuário para o filme na matriz B:  0.9896893297097725\n",
      "-------------------------------------\n",
      "Iteração:  17\n",
      "Nota do usuário para o filme:  1.0\n",
      "Nota aleatória do usuário para o filme:  2.4889627687493308\n",
      "Nota do usuário para o filme na matriz B:  2.3749180072655998\n",
      "-------------------------------------\n",
      "Iteração:  18\n",
      "Nota do usuário para o filme:  4.5\n",
      "Nota aleatória do usuário para o filme:  3.8513253126577354\n",
      "Nota do usuário para o filme na matriz B:  4.005813623459472\n",
      "-------------------------------------\n",
      "Iteração:  19\n",
      "Nota do usuário para o filme:  2.0\n",
      "Nota aleatória do usuário para o filme:  3.8583611697173996\n",
      "Nota do usuário para o filme na matriz B:  4.141506354758328\n",
      "-------------------------------------\n",
      "Iteração:  20\n",
      "Nota do usuário para o filme:  2.0\n",
      "Nota aleatória do usuário para o filme:  3.2356386424319683\n",
      "Nota do usuário para o filme na matriz B:  3.1554300548298224\n"
     ]
    }
   ],
   "source": [
    "# Vamos fazer agora para varias linhas\n",
    "for n in range(20):\n",
    "    linha = np.random.randint(0, df.__len__())\n",
    "    id_usuario = df.iloc[linha]['userId']\n",
    "    id_filme = df.iloc[linha]['movieId']\n",
    "    nota = df.iloc[linha]['rating']\n",
    "    A = deepcopy(matriz_notas)\n",
    "    A.loc[id_usuario, id_filme] = np.random.uniform(0.0, 5.0)\n",
    "    nota_aleatoria = A.loc[id_usuario, id_filme]\n",
    "    u, s, vt = svd(A)\n",
    "    u_, s_, vt_ = comprimir(u, s, vt, 100)\n",
    "    sigma = diagsvd(s_, u_.shape[1], vt_.shape[0])\n",
    "    B = u_ @ sigma @ vt_\n",
    "    B = pd.DataFrame(B, index=A.index, columns=A.columns)\n",
    "    print('-------------------------------------')\n",
    "    print('Iteração: ', n+1)\n",
    "    print('Nota do usuário para o filme: ', nota)\n",
    "    print('Nota aleatória do usuário para o filme: ', nota_aleatoria)\n",
    "    print('Nota do usuário para o filme na matriz B: ', B.loc[id_usuario, id_filme])\n",
    "    # salva em um novo dataframe chamado resultados.csv\n",
    "    resultados = pd.DataFrame({'nota': [nota], 'nota_aleatoria': [nota_aleatoria], 'nota_reconstruida': [B.loc[id_usuario, id_filme]]})\n",
    "    if n == 0:\n",
    "        resultados.to_csv('K100.csv', mode='a', header=True)\n",
    "    else:\n",
    "        resultados.to_csv('K100.csv', mode='a', header=False)\n",
    "\n",
    "\n"
   ]
  },
  {
   "attachments": {},
   "cell_type": "markdown",
   "metadata": {
    "pycharm": {
     "name": "#%% md\n"
    }
   },
   "source": [
    "K = 50"
   ]
  },
  {
   "cell_type": "code",
   "execution_count": 8,
   "metadata": {
    "pycharm": {
     "name": "#%%\n"
    }
   },
   "outputs": [
    {
     "name": "stdout",
     "output_type": "stream",
     "text": [
      "-------------------------------------\n",
      "Iteração:  1\n",
      "Nota do usuário para o filme:  4.0\n",
      "Nota aleatória do usuário para o filme:  3.808168127383724\n",
      "Nota do usuário para o filme na matriz B:  3.7730250126318277\n",
      "-------------------------------------\n",
      "Iteração:  2\n",
      "Nota do usuário para o filme:  5.0\n",
      "Nota aleatória do usuário para o filme:  0.0825780349328531\n",
      "Nota do usuário para o filme na matriz B:  1.8417982886375226\n",
      "-------------------------------------\n",
      "Iteração:  3\n",
      "Nota do usuário para o filme:  4.0\n",
      "Nota aleatória do usuário para o filme:  4.697999484185869\n",
      "Nota do usuário para o filme na matriz B:  4.1009362647106915\n",
      "-------------------------------------\n",
      "Iteração:  4\n",
      "Nota do usuário para o filme:  3.5\n",
      "Nota aleatória do usuário para o filme:  0.5609354988621978\n",
      "Nota do usuário para o filme na matriz B:  1.8286758280165314\n",
      "-------------------------------------\n",
      "Iteração:  5\n",
      "Nota do usuário para o filme:  4.5\n",
      "Nota aleatória do usuário para o filme:  4.210819322096518\n",
      "Nota do usuário para o filme na matriz B:  1.8472160903800452\n",
      "-------------------------------------\n",
      "Iteração:  6\n",
      "Nota do usuário para o filme:  3.0\n",
      "Nota aleatória do usuário para o filme:  3.1653627214130404\n",
      "Nota do usuário para o filme na matriz B:  1.2177452085729603\n",
      "-------------------------------------\n",
      "Iteração:  7\n",
      "Nota do usuário para o filme:  2.5\n",
      "Nota aleatória do usuário para o filme:  3.6736802328855434\n",
      "Nota do usuário para o filme na matriz B:  1.5139139319457413\n",
      "-------------------------------------\n",
      "Iteração:  8\n",
      "Nota do usuário para o filme:  3.0\n",
      "Nota aleatória do usuário para o filme:  1.4679686034807933\n",
      "Nota do usuário para o filme na matriz B:  0.8575725103842167\n",
      "-------------------------------------\n",
      "Iteração:  9\n",
      "Nota do usuário para o filme:  3.0\n",
      "Nota aleatória do usuário para o filme:  3.84564684927913\n",
      "Nota do usuário para o filme na matriz B:  0.193887191470149\n",
      "-------------------------------------\n",
      "Iteração:  10\n",
      "Nota do usuário para o filme:  3.5\n",
      "Nota aleatória do usuário para o filme:  3.8776676263119048\n",
      "Nota do usuário para o filme na matriz B:  3.4134949804692574\n",
      "-------------------------------------\n",
      "Iteração:  11\n",
      "Nota do usuário para o filme:  4.0\n",
      "Nota aleatória do usuário para o filme:  0.261236725901029\n",
      "Nota do usuário para o filme na matriz B:  0.9135300387606814\n",
      "-------------------------------------\n",
      "Iteração:  12\n",
      "Nota do usuário para o filme:  3.5\n",
      "Nota aleatória do usuário para o filme:  0.5151366343649316\n",
      "Nota do usuário para o filme na matriz B:  2.511085808638841\n",
      "-------------------------------------\n",
      "Iteração:  13\n",
      "Nota do usuário para o filme:  4.5\n",
      "Nota aleatória do usuário para o filme:  1.6326012864620325\n",
      "Nota do usuário para o filme na matriz B:  1.7005264259618287\n",
      "-------------------------------------\n",
      "Iteração:  14\n",
      "Nota do usuário para o filme:  3.0\n",
      "Nota aleatória do usuário para o filme:  0.12020701886176044\n",
      "Nota do usuário para o filme na matriz B:  2.0123315964462694\n",
      "-------------------------------------\n",
      "Iteração:  15\n",
      "Nota do usuário para o filme:  4.5\n",
      "Nota aleatória do usuário para o filme:  2.655714104995704\n",
      "Nota do usuário para o filme na matriz B:  2.676595911206372\n",
      "-------------------------------------\n",
      "Iteração:  16\n",
      "Nota do usuário para o filme:  3.5\n",
      "Nota aleatória do usuário para o filme:  0.4872164888875563\n",
      "Nota do usuário para o filme na matriz B:  0.9609060396450442\n",
      "-------------------------------------\n",
      "Iteração:  17\n",
      "Nota do usuário para o filme:  2.0\n",
      "Nota aleatória do usuário para o filme:  2.5747334925765464\n",
      "Nota do usuário para o filme na matriz B:  0.1466964224042595\n",
      "-------------------------------------\n",
      "Iteração:  18\n",
      "Nota do usuário para o filme:  4.0\n",
      "Nota aleatória do usuário para o filme:  4.471225549985633\n",
      "Nota do usuário para o filme na matriz B:  0.8658861051890498\n",
      "-------------------------------------\n",
      "Iteração:  19\n",
      "Nota do usuário para o filme:  2.0\n",
      "Nota aleatória do usuário para o filme:  3.240563747295634\n",
      "Nota do usuário para o filme na matriz B:  1.4251929903459317\n",
      "-------------------------------------\n",
      "Iteração:  20\n",
      "Nota do usuário para o filme:  5.0\n",
      "Nota aleatória do usuário para o filme:  3.2357876118602418\n",
      "Nota do usuário para o filme na matriz B:  0.7579315912739377\n"
     ]
    }
   ],
   "source": [
    "# Vamos fazer agora para varias linhas\n",
    "for n in range(20):\n",
    "    linha = np.random.randint(0, df.__len__())\n",
    "    id_usuario = df.iloc[linha]['userId']\n",
    "    id_filme = df.iloc[linha]['movieId']\n",
    "    nota = df.iloc[linha]['rating']\n",
    "    A = deepcopy(matriz_notas)\n",
    "    A.loc[id_usuario, id_filme] = np.random.uniform(0.0, 5.0)\n",
    "    nota_aleatoria = A.loc[id_usuario, id_filme]\n",
    "    u, s, vt = svd(A)\n",
    "    u_, s_, vt_ = comprimir(u, s, vt, 50)\n",
    "    sigma = diagsvd(s_, u_.shape[1], vt_.shape[0])\n",
    "    B = u_ @ sigma @ vt_\n",
    "    B = pd.DataFrame(B, index=A.index, columns=A.columns)\n",
    "    print('-------------------------------------')\n",
    "    print('Iteração: ', n+1)\n",
    "    print('Nota do usuário para o filme: ', nota)\n",
    "    print('Nota aleatória do usuário para o filme: ', nota_aleatoria)\n",
    "    print('Nota do usuário para o filme na matriz B: ', B.loc[id_usuario, id_filme])\n",
    "    # salva em um novo dataframe chamado resultados.csv\n",
    "    resultados = pd.DataFrame({'nota': [nota], 'nota_aleatoria': [nota_aleatoria], 'nota_reconstruida': [B.loc[id_usuario, id_filme]]})\n",
    "    if n == 0:\n",
    "        resultados.to_csv('K50.csv', mode='a', header=True)\n",
    "    else:\n",
    "        resultados.to_csv('K50.csv', mode='a', header=False)\n",
    "\n",
    "\n"
   ]
  },
  {
   "cell_type": "code",
   "execution_count": 2,
   "metadata": {
    "collapsed": false,
    "pycharm": {
     "name": "#%%\n"
    }
   },
   "outputs": [],
   "source": [
    "K50 = pd.read_csv('K50.csv')\n",
    "K100 = pd.read_csv('K100.csv')\n",
    "K150 = pd.read_csv('K150.csv')\n",
    "K200 = pd.read_csv('K200.csv')\n",
    "K300 = pd.read_csv('K300.csv')\n",
    "\n",
    "K50 = K50.drop(columns=['Unnamed: 0'])\n",
    "K100 = K100.drop(columns=['Unnamed: 0'])\n",
    "K150 = K150.drop(columns=['Unnamed: 0'])\n",
    "K200 = K200.drop(columns=['Unnamed: 0'])\n",
    "K300 = K300.drop(columns=['Unnamed: 0'])\n",
    "\n",
    "K50['erro'] = abs(K50['nota'] - K50['nota_reconstruida'])\n",
    "K100['erro'] = abs(K100['nota'] - K100['nota_reconstruida'])\n",
    "K150['erro'] = abs(K150['nota'] - K150['nota_reconstruida'])\n",
    "K200['erro'] = abs(K200['nota'] - K200['nota_reconstruida'])\n",
    "K300['erro'] = abs(K300['nota'] - K300['nota_reconstruida'])"
   ]
  },
  {
   "cell_type": "code",
   "execution_count": 10,
   "metadata": {
    "collapsed": false,
    "pycharm": {
     "name": "#%%\n"
    }
   },
   "outputs": [
    {
     "data": {
      "text/html": [
       "<div>\n",
       "<style scoped>\n",
       "    .dataframe tbody tr th:only-of-type {\n",
       "        vertical-align: middle;\n",
       "    }\n",
       "\n",
       "    .dataframe tbody tr th {\n",
       "        vertical-align: top;\n",
       "    }\n",
       "\n",
       "    .dataframe thead th {\n",
       "        text-align: right;\n",
       "    }\n",
       "</style>\n",
       "<table border=\"1\" class=\"dataframe\">\n",
       "  <thead>\n",
       "    <tr style=\"text-align: right;\">\n",
       "      <th></th>\n",
       "      <th>nota</th>\n",
       "      <th>nota_aleatoria</th>\n",
       "      <th>nota_reconstruida</th>\n",
       "      <th>erro</th>\n",
       "    </tr>\n",
       "  </thead>\n",
       "  <tbody>\n",
       "    <tr>\n",
       "      <th>0</th>\n",
       "      <td>4.0</td>\n",
       "      <td>3.808168</td>\n",
       "      <td>3.773025</td>\n",
       "      <td>0.226975</td>\n",
       "    </tr>\n",
       "    <tr>\n",
       "      <th>1</th>\n",
       "      <td>5.0</td>\n",
       "      <td>0.082578</td>\n",
       "      <td>1.841798</td>\n",
       "      <td>3.158202</td>\n",
       "    </tr>\n",
       "    <tr>\n",
       "      <th>2</th>\n",
       "      <td>4.0</td>\n",
       "      <td>4.697999</td>\n",
       "      <td>4.100936</td>\n",
       "      <td>0.100936</td>\n",
       "    </tr>\n",
       "    <tr>\n",
       "      <th>3</th>\n",
       "      <td>3.5</td>\n",
       "      <td>0.560935</td>\n",
       "      <td>1.828676</td>\n",
       "      <td>1.671324</td>\n",
       "    </tr>\n",
       "    <tr>\n",
       "      <th>4</th>\n",
       "      <td>4.5</td>\n",
       "      <td>4.210819</td>\n",
       "      <td>1.847216</td>\n",
       "      <td>2.652784</td>\n",
       "    </tr>\n",
       "  </tbody>\n",
       "</table>\n",
       "</div>"
      ],
      "text/plain": [
       "   nota  nota_aleatoria  nota_reconstruida      erro\n",
       "0   4.0        3.808168           3.773025  0.226975\n",
       "1   5.0        0.082578           1.841798  3.158202\n",
       "2   4.0        4.697999           4.100936  0.100936\n",
       "3   3.5        0.560935           1.828676  1.671324\n",
       "4   4.5        4.210819           1.847216  2.652784"
      ]
     },
     "execution_count": 10,
     "metadata": {},
     "output_type": "execute_result"
    }
   ],
   "source": [
    "K50.head()"
   ]
  },
  {
   "cell_type": "code",
   "execution_count": 11,
   "metadata": {
    "collapsed": false,
    "pycharm": {
     "name": "#%%\n"
    }
   },
   "outputs": [
    {
     "data": {
      "text/html": [
       "<div>\n",
       "<style scoped>\n",
       "    .dataframe tbody tr th:only-of-type {\n",
       "        vertical-align: middle;\n",
       "    }\n",
       "\n",
       "    .dataframe tbody tr th {\n",
       "        vertical-align: top;\n",
       "    }\n",
       "\n",
       "    .dataframe thead th {\n",
       "        text-align: right;\n",
       "    }\n",
       "</style>\n",
       "<table border=\"1\" class=\"dataframe\">\n",
       "  <thead>\n",
       "    <tr style=\"text-align: right;\">\n",
       "      <th></th>\n",
       "      <th>nota</th>\n",
       "      <th>nota_aleatoria</th>\n",
       "      <th>nota_reconstruida</th>\n",
       "      <th>erro</th>\n",
       "    </tr>\n",
       "  </thead>\n",
       "  <tbody>\n",
       "    <tr>\n",
       "      <th>0</th>\n",
       "      <td>3.5</td>\n",
       "      <td>0.917337</td>\n",
       "      <td>0.016010</td>\n",
       "      <td>3.483990</td>\n",
       "    </tr>\n",
       "    <tr>\n",
       "      <th>1</th>\n",
       "      <td>4.5</td>\n",
       "      <td>4.110386</td>\n",
       "      <td>3.522085</td>\n",
       "      <td>0.977915</td>\n",
       "    </tr>\n",
       "    <tr>\n",
       "      <th>2</th>\n",
       "      <td>4.0</td>\n",
       "      <td>4.150080</td>\n",
       "      <td>1.336458</td>\n",
       "      <td>2.663542</td>\n",
       "    </tr>\n",
       "    <tr>\n",
       "      <th>3</th>\n",
       "      <td>4.0</td>\n",
       "      <td>2.277173</td>\n",
       "      <td>0.177904</td>\n",
       "      <td>3.822096</td>\n",
       "    </tr>\n",
       "    <tr>\n",
       "      <th>4</th>\n",
       "      <td>4.0</td>\n",
       "      <td>0.050298</td>\n",
       "      <td>-0.160277</td>\n",
       "      <td>4.160277</td>\n",
       "    </tr>\n",
       "  </tbody>\n",
       "</table>\n",
       "</div>"
      ],
      "text/plain": [
       "   nota  nota_aleatoria  nota_reconstruida      erro\n",
       "0   3.5        0.917337           0.016010  3.483990\n",
       "1   4.5        4.110386           3.522085  0.977915\n",
       "2   4.0        4.150080           1.336458  2.663542\n",
       "3   4.0        2.277173           0.177904  3.822096\n",
       "4   4.0        0.050298          -0.160277  4.160277"
      ]
     },
     "execution_count": 11,
     "metadata": {},
     "output_type": "execute_result"
    }
   ],
   "source": [
    "K100.head()"
   ]
  },
  {
   "cell_type": "code",
   "execution_count": 12,
   "metadata": {
    "collapsed": false,
    "pycharm": {
     "name": "#%%\n"
    }
   },
   "outputs": [
    {
     "data": {
      "text/html": [
       "<div>\n",
       "<style scoped>\n",
       "    .dataframe tbody tr th:only-of-type {\n",
       "        vertical-align: middle;\n",
       "    }\n",
       "\n",
       "    .dataframe tbody tr th {\n",
       "        vertical-align: top;\n",
       "    }\n",
       "\n",
       "    .dataframe thead th {\n",
       "        text-align: right;\n",
       "    }\n",
       "</style>\n",
       "<table border=\"1\" class=\"dataframe\">\n",
       "  <thead>\n",
       "    <tr style=\"text-align: right;\">\n",
       "      <th></th>\n",
       "      <th>nota</th>\n",
       "      <th>nota_aleatoria</th>\n",
       "      <th>nota_reconstruida</th>\n",
       "      <th>erro</th>\n",
       "    </tr>\n",
       "  </thead>\n",
       "  <tbody>\n",
       "    <tr>\n",
       "      <th>0</th>\n",
       "      <td>4.0</td>\n",
       "      <td>3.489758</td>\n",
       "      <td>3.951418</td>\n",
       "      <td>0.048582</td>\n",
       "    </tr>\n",
       "    <tr>\n",
       "      <th>1</th>\n",
       "      <td>4.0</td>\n",
       "      <td>1.040223</td>\n",
       "      <td>0.586915</td>\n",
       "      <td>3.413085</td>\n",
       "    </tr>\n",
       "    <tr>\n",
       "      <th>2</th>\n",
       "      <td>4.0</td>\n",
       "      <td>4.648225</td>\n",
       "      <td>2.673330</td>\n",
       "      <td>1.326670</td>\n",
       "    </tr>\n",
       "    <tr>\n",
       "      <th>3</th>\n",
       "      <td>4.0</td>\n",
       "      <td>4.300554</td>\n",
       "      <td>2.593907</td>\n",
       "      <td>1.406093</td>\n",
       "    </tr>\n",
       "    <tr>\n",
       "      <th>4</th>\n",
       "      <td>5.0</td>\n",
       "      <td>2.414311</td>\n",
       "      <td>3.178296</td>\n",
       "      <td>1.821704</td>\n",
       "    </tr>\n",
       "  </tbody>\n",
       "</table>\n",
       "</div>"
      ],
      "text/plain": [
       "   nota  nota_aleatoria  nota_reconstruida      erro\n",
       "0   4.0        3.489758           3.951418  0.048582\n",
       "1   4.0        1.040223           0.586915  3.413085\n",
       "2   4.0        4.648225           2.673330  1.326670\n",
       "3   4.0        4.300554           2.593907  1.406093\n",
       "4   5.0        2.414311           3.178296  1.821704"
      ]
     },
     "execution_count": 12,
     "metadata": {},
     "output_type": "execute_result"
    }
   ],
   "source": [
    "K150.head()"
   ]
  },
  {
   "cell_type": "code",
   "execution_count": 13,
   "metadata": {
    "collapsed": false,
    "pycharm": {
     "name": "#%%\n"
    }
   },
   "outputs": [
    {
     "data": {
      "text/html": [
       "<div>\n",
       "<style scoped>\n",
       "    .dataframe tbody tr th:only-of-type {\n",
       "        vertical-align: middle;\n",
       "    }\n",
       "\n",
       "    .dataframe tbody tr th {\n",
       "        vertical-align: top;\n",
       "    }\n",
       "\n",
       "    .dataframe thead th {\n",
       "        text-align: right;\n",
       "    }\n",
       "</style>\n",
       "<table border=\"1\" class=\"dataframe\">\n",
       "  <thead>\n",
       "    <tr style=\"text-align: right;\">\n",
       "      <th></th>\n",
       "      <th>nota</th>\n",
       "      <th>nota_aleatoria</th>\n",
       "      <th>nota_reconstruida</th>\n",
       "      <th>erro</th>\n",
       "    </tr>\n",
       "  </thead>\n",
       "  <tbody>\n",
       "    <tr>\n",
       "      <th>0</th>\n",
       "      <td>4.0</td>\n",
       "      <td>2.543220</td>\n",
       "      <td>2.907908</td>\n",
       "      <td>1.092092</td>\n",
       "    </tr>\n",
       "    <tr>\n",
       "      <th>1</th>\n",
       "      <td>4.0</td>\n",
       "      <td>4.262805</td>\n",
       "      <td>4.330224</td>\n",
       "      <td>0.330224</td>\n",
       "    </tr>\n",
       "    <tr>\n",
       "      <th>2</th>\n",
       "      <td>3.0</td>\n",
       "      <td>0.841112</td>\n",
       "      <td>0.864692</td>\n",
       "      <td>2.135308</td>\n",
       "    </tr>\n",
       "    <tr>\n",
       "      <th>3</th>\n",
       "      <td>2.0</td>\n",
       "      <td>3.558201</td>\n",
       "      <td>3.452644</td>\n",
       "      <td>1.452644</td>\n",
       "    </tr>\n",
       "    <tr>\n",
       "      <th>4</th>\n",
       "      <td>3.0</td>\n",
       "      <td>4.824806</td>\n",
       "      <td>4.853947</td>\n",
       "      <td>1.853947</td>\n",
       "    </tr>\n",
       "  </tbody>\n",
       "</table>\n",
       "</div>"
      ],
      "text/plain": [
       "   nota  nota_aleatoria  nota_reconstruida      erro\n",
       "0   4.0        2.543220           2.907908  1.092092\n",
       "1   4.0        4.262805           4.330224  0.330224\n",
       "2   3.0        0.841112           0.864692  2.135308\n",
       "3   2.0        3.558201           3.452644  1.452644\n",
       "4   3.0        4.824806           4.853947  1.853947"
      ]
     },
     "execution_count": 13,
     "metadata": {},
     "output_type": "execute_result"
    }
   ],
   "source": [
    "K200.head()"
   ]
  },
  {
   "cell_type": "code",
   "execution_count": 14,
   "metadata": {
    "collapsed": false,
    "pycharm": {
     "name": "#%%\n"
    }
   },
   "outputs": [
    {
     "data": {
      "text/html": [
       "<div>\n",
       "<style scoped>\n",
       "    .dataframe tbody tr th:only-of-type {\n",
       "        vertical-align: middle;\n",
       "    }\n",
       "\n",
       "    .dataframe tbody tr th {\n",
       "        vertical-align: top;\n",
       "    }\n",
       "\n",
       "    .dataframe thead th {\n",
       "        text-align: right;\n",
       "    }\n",
       "</style>\n",
       "<table border=\"1\" class=\"dataframe\">\n",
       "  <thead>\n",
       "    <tr style=\"text-align: right;\">\n",
       "      <th></th>\n",
       "      <th>nota</th>\n",
       "      <th>nota_aleatoria</th>\n",
       "      <th>nota_reconstruida</th>\n",
       "      <th>erro</th>\n",
       "    </tr>\n",
       "  </thead>\n",
       "  <tbody>\n",
       "    <tr>\n",
       "      <th>0</th>\n",
       "      <td>3.0</td>\n",
       "      <td>1.996224</td>\n",
       "      <td>1.967912</td>\n",
       "      <td>1.032088</td>\n",
       "    </tr>\n",
       "    <tr>\n",
       "      <th>1</th>\n",
       "      <td>3.0</td>\n",
       "      <td>1.257462</td>\n",
       "      <td>0.738317</td>\n",
       "      <td>2.261683</td>\n",
       "    </tr>\n",
       "    <tr>\n",
       "      <th>2</th>\n",
       "      <td>3.5</td>\n",
       "      <td>2.141370</td>\n",
       "      <td>2.216571</td>\n",
       "      <td>1.283429</td>\n",
       "    </tr>\n",
       "    <tr>\n",
       "      <th>3</th>\n",
       "      <td>3.5</td>\n",
       "      <td>1.553717</td>\n",
       "      <td>0.559691</td>\n",
       "      <td>2.940309</td>\n",
       "    </tr>\n",
       "    <tr>\n",
       "      <th>4</th>\n",
       "      <td>3.5</td>\n",
       "      <td>4.194937</td>\n",
       "      <td>4.173609</td>\n",
       "      <td>0.673609</td>\n",
       "    </tr>\n",
       "  </tbody>\n",
       "</table>\n",
       "</div>"
      ],
      "text/plain": [
       "   nota  nota_aleatoria  nota_reconstruida      erro\n",
       "0   3.0        1.996224           1.967912  1.032088\n",
       "1   3.0        1.257462           0.738317  2.261683\n",
       "2   3.5        2.141370           2.216571  1.283429\n",
       "3   3.5        1.553717           0.559691  2.940309\n",
       "4   3.5        4.194937           4.173609  0.673609"
      ]
     },
     "execution_count": 14,
     "metadata": {},
     "output_type": "execute_result"
    }
   ],
   "source": [
    "K300.head()"
   ]
  },
  {
   "cell_type": "markdown",
   "metadata": {
    "collapsed": false,
    "pycharm": {
     "name": "#%% md\n"
    }
   },
   "source": [
    "## Resultados"
   ]
  },
  {
   "cell_type": "code",
   "execution_count": 3,
   "metadata": {
    "collapsed": false,
    "pycharm": {
     "name": "#%%\n"
    }
   },
   "outputs": [],
   "source": [
    "try:\n",
    "    result_table = pd.DataFrame({'K50': [K50['erro'].mean(), K50['erro'].std()], 'K100': [K100['erro'].mean(), K100['erro'].std()], 'K150': [K150['erro'].mean(), K150['erro'].std()], 'K200': [K200['erro'].mean(), K200['erro'].std()], 'K300': [K300['erro'].mean(), K300['erro'].std()]}, index=['Média', 'Desvio Padrão'])\n",
    "except NameError:\n",
    "    result_table = pd.read_csv('test_results.csv')"
   ]
  },
  {
   "cell_type": "code",
   "execution_count": 4,
   "metadata": {
    "collapsed": false,
    "pycharm": {
     "name": "#%%\n"
    }
   },
   "outputs": [
    {
     "data": {
      "text/html": [
       "<div>\n",
       "<style scoped>\n",
       "    .dataframe tbody tr th:only-of-type {\n",
       "        vertical-align: middle;\n",
       "    }\n",
       "\n",
       "    .dataframe tbody tr th {\n",
       "        vertical-align: top;\n",
       "    }\n",
       "\n",
       "    .dataframe thead th {\n",
       "        text-align: right;\n",
       "    }\n",
       "</style>\n",
       "<table border=\"1\" class=\"dataframe\">\n",
       "  <thead>\n",
       "    <tr style=\"text-align: right;\">\n",
       "      <th></th>\n",
       "      <th>Unnamed: 0</th>\n",
       "      <th>K50</th>\n",
       "      <th>K100</th>\n",
       "      <th>K150</th>\n",
       "      <th>K200</th>\n",
       "      <th>K300</th>\n",
       "    </tr>\n",
       "  </thead>\n",
       "  <tbody>\n",
       "    <tr>\n",
       "      <th>0</th>\n",
       "      <td>Média</td>\n",
       "      <td>1.882146</td>\n",
       "      <td>1.944222</td>\n",
       "      <td>1.315842</td>\n",
       "      <td>2.014583</td>\n",
       "      <td>1.721687</td>\n",
       "    </tr>\n",
       "    <tr>\n",
       "      <th>1</th>\n",
       "      <td>Desvio Padrão</td>\n",
       "      <td>1.176729</td>\n",
       "      <td>1.187057</td>\n",
       "      <td>0.981972</td>\n",
       "      <td>1.359196</td>\n",
       "      <td>0.965168</td>\n",
       "    </tr>\n",
       "  </tbody>\n",
       "</table>\n",
       "</div>"
      ],
      "text/plain": [
       "      Unnamed: 0       K50      K100      K150      K200      K300\n",
       "0          Média  1.882146  1.944222  1.315842  2.014583  1.721687\n",
       "1  Desvio Padrão  1.176729  1.187057  0.981972  1.359196  0.965168"
      ]
     },
     "execution_count": 4,
     "metadata": {},
     "output_type": "execute_result"
    }
   ],
   "source": [
    "result_table"
   ]
  },
  {
   "cell_type": "code",
   "execution_count": 9,
   "metadata": {
    "collapsed": false,
    "pycharm": {
     "name": "#%%\n"
    }
   },
   "outputs": [],
   "source": [
    "result_table.to_csv('test_results.csv')"
   ]
  },
  {
   "cell_type": "markdown",
   "metadata": {
    "collapsed": false,
    "pycharm": {
     "name": "#%% md\n"
    }
   },
   "source": [
    "Como podemos ver com os testes realizados, com o fator de compressão K = 150, temos o menor erro médio absoluto e menor desvio-padrão. Portanto, para executar o nosso algoritmo, vamos utilizar K = 150."
   ]
  },
  {
   "cell_type": "markdown",
   "metadata": {
    "collapsed": false,
    "pycharm": {
     "name": "#%% md\n"
    }
   },
   "source": [
    "### Distribuição dos erros absolutos"
   ]
  },
  {
   "cell_type": "code",
   "execution_count": 21,
   "metadata": {
    "collapsed": false,
    "pycharm": {
     "name": "#%%\n"
    }
   },
   "outputs": [],
   "source": [
    "import seaborn as sns\n",
    "import warnings\n",
    "warnings.filterwarnings('ignore')\n",
    "sns.set()"
   ]
  },
  {
   "cell_type": "code",
   "execution_count": 22,
   "metadata": {
    "collapsed": false,
    "pycharm": {
     "name": "#%%\n"
    }
   },
   "outputs": [
    {
     "data": {
      "image/png": "[encoded data removed]",
      "text/plain": [
       "<Figure size 640x480 with 1 Axes>"
      ]
     },
     "metadata": {},
     "output_type": "display_data"
    }
   ],
   "source": [
    "sns.distplot(K50['erro'], hist=False, label='K = 50')\n",
    "plt.ylabel('Densidade')\n",
    "plt.xlabel('Erro')\n",
    "plt.title('Distribuição do erro para K = 50')\n",
    "plt.show()"
   ]
  },
  {
   "cell_type": "code",
   "execution_count": 23,
   "metadata": {
    "collapsed": false,
    "pycharm": {
     "name": "#%%\n"
    }
   },
   "outputs": [
    {
     "data": {
      "image/png": "[encoded data removed]",
      "text/plain": [
       "<Figure size 640x480 with 1 Axes>"
      ]
     },
     "metadata": {},
     "output_type": "display_data"
    }
   ],
   "source": [
    "sns.distplot(K100['erro'], hist=False, label='K = 100')\n",
    "plt.ylabel('Densidade')\n",
    "plt.xlabel('Erro')\n",
    "plt.title('Distribuição do erro para K = 100')\n",
    "plt.show()"
   ]
  },
  {
   "cell_type": "code",
   "execution_count": 24,
   "metadata": {
    "collapsed": false,
    "pycharm": {
     "name": "#%%\n"
    }
   },
   "outputs": [
    {
     "data": {
      "image/png": "[encoded data removed]",
      "text/plain": [
       "<Figure size 640x480 with 1 Axes>"
      ]
     },
     "metadata": {},
     "output_type": "display_data"
    }
   ],
   "source": [
    "sns.distplot(K150['erro'], hist=False, label='K = 150')\n",
    "plt.ylabel('Densidade')\n",
    "plt.xlabel('Erro')\n",
    "plt.title('Distribuição do erro para K = 150')\n",
    "plt.show()"
   ]
  },
  {
   "cell_type": "code",
   "execution_count": 25,
   "metadata": {
    "collapsed": false,
    "pycharm": {
     "name": "#%%\n"
    }
   },
   "outputs": [
    {
     "data": {
      "image/png": "[encoded data removed]",
      "text/plain": [
       "<Figure size 640x480 with 1 Axes>"
      ]
     },
     "metadata": {},
     "output_type": "display_data"
    }
   ],
   "source": [
    "sns.distplot(K200['erro'], hist=False, label='K = 200')\n",
    "plt.ylabel('Densidade')\n",
    "plt.xlabel('Erro')\n",
    "plt.title('Distribuição do erro para K = 200')\n",
    "plt.show()"
   ]
  },
  {
   "cell_type": "code",
   "execution_count": 26,
   "metadata": {
    "collapsed": false,
    "pycharm": {
     "name": "#%%\n"
    }
   },
   "outputs": [
    {
     "data": {
      "image/png": "[encoded data removed]",
      "text/plain": [
       "<Figure size 640x480 with 1 Axes>"
      ]
     },
     "metadata": {},
     "output_type": "display_data"
    }
   ],
   "source": [
    "sns.distplot(K300['erro'], hist=False, label='K = 300')\n",
    "plt.ylabel('Densidade')\n",
    "plt.xlabel('Erro')\n",
    "plt.title('Distribuição do erro para K = 300')\n",
    "plt.show()"
   ]
  },
  {
   "cell_type": "markdown",
   "metadata": {
    "collapsed": false,
    "pycharm": {
     "name": "#%% md\n"
    }
   },
   "source": [
    "Observando os gráficos acima, podemos ver que as distribuições dos erros para K = 150 e K = 300 são semelhantes, com os valores mais concentrados entre -1 e 5. Para os demais valores de K, a curva é mais achatada, mostrando uma maior dispersão dos valores de erro. Portanto, apenas observando os dados, ficamos entre os fatores de compressão K = 150 e K = 300. Analisando média e desvio-padrão, todavia, temos que K = 150 é o melhor fator de compressão, com menor erro absoluto médio e menor desvio-padrão."
   ]
  },
  {
   "attachments": {},
   "cell_type": "markdown",
   "metadata": {},
   "source": [
    "Prova que o K = 150 é valido como fator de compressão realizando um teste qualquer e plotando o grafico de s"
   ]
  },
  {
   "cell_type": "code",
   "execution_count": 7,
   "metadata": {},
   "outputs": [
    {
     "name": "stdout",
     "output_type": "stream",
     "text": [
      "Nota do usuário para o filme:  3.5\n",
      "Nota aleatória do usuário para o filme:  4.003110198662202\n",
      "Nota do usuário para o filme na matriz B:  3.3822605742844107\n"
     ]
    },
    {
     "data": {
      "image/png": "[encoded data removed]",
      "text/plain": [
       "<Figure size 1000x1000 with 1 Axes>"
      ]
     },
     "metadata": {},
     "output_type": "display_data"
    }
   ],
   "source": [
    "# vamos escolher uma linha aleatória do nosso df\n",
    "\n",
    "linha = np.random.randint(0, df.__len__())\n",
    "\n",
    "# vamos pegar o id do usuário e do filme dessa linha\n",
    "\n",
    "id_usuario = df.iloc[linha]['userId']\n",
    "id_filme = df.iloc[linha]['movieId']\n",
    "\n",
    "# vamos pegar a nota que esse usuário deu para esse filme\n",
    "\n",
    "nota = df.iloc[linha]['rating']\n",
    "\n",
    "A = deepcopy(matriz_notas)\n",
    "\n",
    "# vamos trocar a nota do usuário por um valor aleatorio entre 0.0 e 5.0 e salvar no nosso A\n",
    "\n",
    "A.loc[id_usuario, id_filme] = np.random.uniform(0.0, 5.0)\n",
    "\n",
    "nota_aleatoria = A.loc[id_usuario, id_filme]\n",
    "\n",
    "# SVD da matriz A\n",
    "\n",
    "u, s, vt = svd(A)\n",
    "\n",
    "# vamos comprimir a matriz A para 2 componentes\n",
    "\n",
    "u_, s_, vt_ = comprimir(u, s, vt, 150)\n",
    "\n",
    "sigma = diagsvd(s_, u_.shape[1], vt_.shape[0])\n",
    "\n",
    "# vamos reconstruir a matriz A com 2 componentes\n",
    "\n",
    "B = u_ @ sigma @ vt_\n",
    "\n",
    "# vamos ver a nota que o usuário deu para o filme\n",
    "\n",
    "print('Nota do usuário para o filme: ', nota)\n",
    "\n",
    "print('Nota aleatória do usuário para o filme: ', nota_aleatoria)\n",
    "\n",
    "# vamos ver a nota que o usuário deu para o filme na matriz B\n",
    "B = pd.DataFrame(B, index=A.index, columns=A.columns)\n",
    "print('Nota do usuário para o filme na matriz B: ', B.loc[id_usuario, id_filme])\n",
    "\n",
    "plt.figure(figsize=(10, 10))\n",
    "plt.plot(s, linewidth=2)\n",
    "# plota uma linha horizontal que passe na interseção do eixo x = 300\n",
    "plt.axhline(y=s[150], color='r', linestyle='-')\n",
    "plt.xlabel('Componentes (K)')\n",
    "plt.show()"
   ]
  },
  {
   "cell_type": "code",
   "execution_count": null,
   "metadata": {},
   "outputs": [],
   "source": []
  }
 ],
 "metadata": {
  "kernelspec": {
   "display_name": "Python 3",
   "language": "python",
   "name": "python3"
  },
  "language_info": {
   "codemirror_mode": {
    "name": "ipython",
    "version": 3
   },
   "file_extension": ".py",
   "mimetype": "text/x-python",
   "name": "python",
   "nbconvert_exporter": "python",
   "pygments_lexer": "ipython3",
   "version": "3.10.6"
  },
  "orig_nbformat": 4
 },
 "nbformat": 4,
 "nbformat_minor": 2
}
